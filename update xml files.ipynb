{
 "cells": [
  {
   "cell_type": "code",
   "execution_count": 1,
   "id": "ab2a55d1",
   "metadata": {},
   "outputs": [],
   "source": [
    "import xml.etree.ElementTree as ET\n",
    "import os\n",
    "path='xml files'   # path of current xml files\n",
    "for f in os.listdir(path):\n",
    "    if not f.endswith('.xml'): continue\n",
    "    fn=os.path.join(path,f)\n",
    "    m=ET.parse(fn)\n",
    "    r1=m.getroot()\n",
    "    #print(r1[2].text)\n",
    "    z=str(r1[2].text)\n",
    "    z1=z[::-1]\n",
    "    x=max(z1.find('\\\\'),z1.find('/'))     \n",
    "    #print(z[: -x])\n",
    "    np=\"newpath/imagesnew/\"    # path to be specified inside xml file\n",
    "    t=z.replace(z[: -x] , np )    \n",
    "    r1[2].text=str(t)\n",
    "    r1[2].set('updated','yes')\n",
    "    m.write(f+'.xml')           # new updated xml files with the old name gets generated in current folder"
   ]
  },
  {
   "cell_type": "code",
   "execution_count": null,
   "id": "7d78f0c1",
   "metadata": {},
   "outputs": [],
   "source": []
  }
 ],
 "metadata": {
  "kernelspec": {
   "display_name": "Python 3 (ipykernel)",
   "language": "python",
   "name": "python3"
  },
  "language_info": {
   "codemirror_mode": {
    "name": "ipython",
    "version": 3
   },
   "file_extension": ".py",
   "mimetype": "text/x-python",
   "name": "python",
   "nbconvert_exporter": "python",
   "pygments_lexer": "ipython3",
   "version": "3.8.11"
  }
 },
 "nbformat": 4,
 "nbformat_minor": 5
}
